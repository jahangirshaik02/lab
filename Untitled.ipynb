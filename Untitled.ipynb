{
  "nbformat": 4,
  "nbformat_minor": 0,
  "metadata": {
    "colab": {
      "provenance": [],
      "include_colab_link": true
    },
    "kernelspec": {
      "name": "python3",
      "display_name": "Python 3"
    },
    "language_info": {
      "name": "python"
    }
  },
  "cells": [
    {
      "cell_type": "markdown",
      "metadata": {
        "id": "view-in-github",
        "colab_type": "text"
      },
      "source": [
        "<a href=\"https://colab.research.google.com/github/jahangirshaik02/lab/blob/main/Untitled.ipynb\" target=\"_parent\"><img src=\"https://colab.research.google.com/assets/colab-badge.svg\" alt=\"Open In Colab\"/></a>"
      ]
    },
    {
      "cell_type": "code",
      "execution_count": null,
      "metadata": {
        "id": "0TgOExF66LtM",
        "colab": {
          "base_uri": "https://localhost:8080/"
        },
        "outputId": "cf3b029f-fe38-489c-89ff-b18f0538d85e"
      },
      "outputs": [
        {
          "output_type": "stream",
          "name": "stdout",
          "text": [
            "A B C D E "
          ]
        }
      ],
      "source": [
        "\"\"\"graph = {\n",
        "  'A' : ['B','C'],\n",
        "  'B' : ['D', 'E'],\n",
        "  'C' : ['F'],\n",
        "  'D' : [],\n",
        "  'E' : ['F'],\n",
        "  'F' : []\n",
        "}\"\"\"\n",
        "graph = {\n",
        "        'A': ['B', 'C', 'D'],\n",
        "        'B': ['A', 'D', 'E'],\n",
        "        'C': ['A', 'D'],\n",
        "        'D': ['B', 'C', 'A', 'E'],\n",
        "        'E': ['B', 'D']\n",
        "    }\n",
        "visited = [] # List to keep track of visited nodes.\n",
        "queue = []     #Initialize a queue\n",
        "\n",
        "def bfs(visited, graph, node):\n",
        "  visited.append(node)\n",
        "  queue.append(node)\n",
        "\n",
        "  while queue:\n",
        "    s = queue.pop(0)\n",
        "    print (s, end = \" \")\n",
        "\n",
        "    for neighbour in graph[s]:\n",
        "      if neighbour not in visited:\n",
        "        visited.append(neighbour)\n",
        "        queue.append(neighbour)\n",
        "        # Driver Code\n",
        "bfs(visited, graph, 'A')\n",
        "\n"
      ]
    },
    {
      "cell_type": "code",
      "source": [
        "# Using a Python dictionary to act as an adjacency list\n",
        "'''graph = {\n",
        "    'A' : ['B','C'],\n",
        "    'B' : ['D', 'E'],\n",
        "    'C' : ['F'],\n",
        "    'D' : [],\n",
        "    'E' : ['F'],\n",
        "    'F' : []\n",
        "}'''\n",
        "graph = {\n",
        "        'A': ['B', 'C', 'D'],\n",
        "        'B': ['A', 'D', 'E'],\n",
        "        'C': ['A', 'D'],\n",
        "        'D': ['B', 'C', 'A', 'E'],\n",
        "        'E': ['B', 'D']\n",
        "    }\n",
        "visited = set() # Set to keep track of visited nodes.\n",
        "\n",
        "def dfs(visited, graph, node):\n",
        "    if node not in visited:\n",
        "        print (node)\n",
        "        visited.add(node)\n",
        "        for neighbour in graph[node]:\n",
        "            dfs(visited, graph, neighbour)\n",
        "\n",
        "# Driver Code\n",
        "dfs(visited, graph, 'A')\n",
        "\n",
        "\n"
      ],
      "metadata": {
        "colab": {
          "base_uri": "https://localhost:8080/"
        },
        "id": "HsTGMhVv-YAK",
        "outputId": "960770d4-45a0-4f9b-fdba-fe2772fac30b"
      },
      "execution_count": null,
      "outputs": [
        {
          "output_type": "stream",
          "name": "stdout",
          "text": [
            "A\n",
            "B\n",
            "D\n",
            "C\n",
            "E\n"
          ]
        }
      ]
    },
    {
      "cell_type": "code",
      "source": [
        "# Define two numbers\n",
        "num1 = 5\n",
        "num2 = 10\n",
        "\n",
        "# Add the numbers\n",
        "sum_result = num1 + num2\n",
        "\n",
        "# Print the result\n",
        "print(\"The sum is:\", sum_result)\n"
      ],
      "metadata": {
        "colab": {
          "base_uri": "https://localhost:8080/"
        },
        "id": "CNXUOoJpavAv",
        "outputId": "1153c1ed-2912-4a81-b429-96e0b09899f2"
      },
      "execution_count": null,
      "outputs": [
        {
          "output_type": "stream",
          "name": "stdout",
          "text": [
            "The sum is: 15\n"
          ]
        }
      ]
    },
    {
      "cell_type": "code",
      "source": [],
      "metadata": {
        "id": "KcwB0GhLLdOY"
      },
      "execution_count": null,
      "outputs": []
    },
    {
      "cell_type": "markdown",
      "source": [],
      "metadata": {
        "id": "Y_nN4MDPLfAv"
      }
    },
    {
      "cell_type": "code",
      "source": [
        "num1 = 10\n",
        "num2 = 20\n",
        "result = num1 + num2\n",
        "print(f\"sum of {num1} and {num2} is {result}\")"
      ],
      "metadata": {
        "id": "IGKXXzYpHgUW",
        "colab": {
          "base_uri": "https://localhost:8080/"
        },
        "outputId": "72e8a27e-3147-413c-8549-6d439f1a2efb"
      },
      "execution_count": 2,
      "outputs": [
        {
          "output_type": "stream",
          "name": "stdout",
          "text": [
            "sum of 10 and 20 is 30\n"
          ]
        }
      ]
    },
    {
      "cell_type": "code",
      "source": [
        "from google.colab import drive\n",
        "drive.mount('/content/drive')"
      ],
      "metadata": {
        "id": "P5PbqeoEUf8a"
      },
      "execution_count": null,
      "outputs": []
    },
    {
      "cell_type": "code",
      "source": [
        "\n",
        "name = input(\"Enter your name: \")\n",
        "age = input(\"Enter your age: \")\n",
        "city = input(\"Enter your city: \")\n",
        "1\n",
        "print(f\"Name: {name}, Age: {age}, City: {city}\")\n"
      ],
      "metadata": {
        "colab": {
          "base_uri": "https://localhost:8080/"
        },
        "id": "y-XRyvTXQPx_",
        "outputId": "20567704-dbd0-482b-cf73-07b6d26d9efe"
      },
      "execution_count": 3,
      "outputs": [
        {
          "output_type": "stream",
          "name": "stdout",
          "text": [
            "Enter your name: 02\n",
            "Enter your age: 6\n",
            "Enter your city: 12\n",
            "Name: 02, Age: 6, City: 12\n"
          ]
        }
      ]
    },
    {
      "cell_type": "code",
      "source": [
        "\n",
        "with open('input.txt', 'r') as file:\n",
        "    content = file.readline().strip()\n",
        "\n",
        "\n",
        "print(f\"Content read from the file: {content}\")\n"
      ],
      "metadata": {
        "colab": {
          "base_uri": "https://localhost:8080/",
          "height": 211
        },
        "id": "fh7Wc2QgTXvs",
        "outputId": "3abb0083-6fd7-43b9-c2f6-42f3343cb68b"
      },
      "execution_count": 4,
      "outputs": [
        {
          "output_type": "error",
          "ename": "FileNotFoundError",
          "evalue": "[Errno 2] No such file or directory: 'input.txt'",
          "traceback": [
            "\u001b[0;31m---------------------------------------------------------------------------\u001b[0m",
            "\u001b[0;31mFileNotFoundError\u001b[0m                         Traceback (most recent call last)",
            "\u001b[0;32m<ipython-input-4-3c7f97dc67b4>\u001b[0m in \u001b[0;36m<cell line: 1>\u001b[0;34m()\u001b[0m\n\u001b[0;32m----> 1\u001b[0;31m \u001b[0;32mwith\u001b[0m \u001b[0mopen\u001b[0m\u001b[0;34m(\u001b[0m\u001b[0;34m'input.txt'\u001b[0m\u001b[0;34m,\u001b[0m \u001b[0;34m'r'\u001b[0m\u001b[0;34m)\u001b[0m \u001b[0;32mas\u001b[0m \u001b[0mfile\u001b[0m\u001b[0;34m:\u001b[0m\u001b[0;34m\u001b[0m\u001b[0;34m\u001b[0m\u001b[0m\n\u001b[0m\u001b[1;32m      2\u001b[0m     \u001b[0mcontent\u001b[0m \u001b[0;34m=\u001b[0m \u001b[0mfile\u001b[0m\u001b[0;34m.\u001b[0m\u001b[0mreadline\u001b[0m\u001b[0;34m(\u001b[0m\u001b[0;34m)\u001b[0m\u001b[0;34m.\u001b[0m\u001b[0mstrip\u001b[0m\u001b[0;34m(\u001b[0m\u001b[0;34m)\u001b[0m\u001b[0;34m\u001b[0m\u001b[0;34m\u001b[0m\u001b[0m\n\u001b[1;32m      3\u001b[0m \u001b[0;34m\u001b[0m\u001b[0m\n\u001b[1;32m      4\u001b[0m \u001b[0;34m\u001b[0m\u001b[0m\n\u001b[1;32m      5\u001b[0m \u001b[0mprint\u001b[0m\u001b[0;34m(\u001b[0m\u001b[0;34mf\"Content read from the file: {content}\"\u001b[0m\u001b[0;34m)\u001b[0m\u001b[0;34m\u001b[0m\u001b[0;34m\u001b[0m\u001b[0m\n",
            "\u001b[0;31mFileNotFoundError\u001b[0m: [Errno 2] No such file or directory: 'input.txt'"
          ]
        }
      ]
    },
    {
      "cell_type": "code",
      "source": [
        "\n",
        "filename = '/shaik jahangir.txt'\n",
        "try:\n",
        "    with open(filename, 'r') as file:\n",
        "        single_input = file.readline().strip()\n",
        "    print(f\"The input from the file is: {single_input}\")\n",
        "except FileNotFoundError:\n",
        "    print(f\"Error: The file {filename} was not found.\")"
      ],
      "metadata": {
        "colab": {
          "base_uri": "https://localhost:8080/"
        },
        "id": "4A_LQ72MT9Ww",
        "outputId": "c8af4d94-5f7f-46f7-9deb-c3b7d499d2ae"
      },
      "execution_count": 6,
      "outputs": [
        {
          "output_type": "stream",
          "name": "stdout",
          "text": [
            "The input from the file is: shaik jahangir\n"
          ]
        }
      ]
    },
    {
      "cell_type": "code",
      "source": [
        "\n",
        "with open('/shaik jahangir.txt', 'r') as file:\n",
        "    lines = [line.strip() for line in file.readlines()]\n",
        "name, age, city = lines[0], lines[1], lines[2]\n",
        "print(f\"Name: {name}, Age: {age}, City: {city}\")\n"
      ],
      "metadata": {
        "colab": {
          "base_uri": "https://localhost:8080/",
          "height": 193
        },
        "id": "BpxVp3-kVVei",
        "outputId": "07d36f50-14ca-4136-90be-a47573844230"
      },
      "execution_count": 8,
      "outputs": [
        {
          "output_type": "error",
          "ename": "IndexError",
          "evalue": "list index out of range",
          "traceback": [
            "\u001b[0;31m---------------------------------------------------------------------------\u001b[0m",
            "\u001b[0;31mIndexError\u001b[0m                                Traceback (most recent call last)",
            "\u001b[0;32m<ipython-input-8-bcf1047935d3>\u001b[0m in \u001b[0;36m<cell line: 3>\u001b[0;34m()\u001b[0m\n\u001b[1;32m      1\u001b[0m \u001b[0;32mwith\u001b[0m \u001b[0mopen\u001b[0m\u001b[0;34m(\u001b[0m\u001b[0;34m'/shaik jahangir.txt'\u001b[0m\u001b[0;34m,\u001b[0m \u001b[0;34m'r'\u001b[0m\u001b[0;34m)\u001b[0m \u001b[0;32mas\u001b[0m \u001b[0mfile\u001b[0m\u001b[0;34m:\u001b[0m\u001b[0;34m\u001b[0m\u001b[0;34m\u001b[0m\u001b[0m\n\u001b[1;32m      2\u001b[0m     \u001b[0mlines\u001b[0m \u001b[0;34m=\u001b[0m \u001b[0;34m[\u001b[0m\u001b[0mline\u001b[0m\u001b[0;34m.\u001b[0m\u001b[0mstrip\u001b[0m\u001b[0;34m(\u001b[0m\u001b[0;34m)\u001b[0m \u001b[0;32mfor\u001b[0m \u001b[0mline\u001b[0m \u001b[0;32min\u001b[0m \u001b[0mfile\u001b[0m\u001b[0;34m.\u001b[0m\u001b[0mreadlines\u001b[0m\u001b[0;34m(\u001b[0m\u001b[0;34m)\u001b[0m\u001b[0;34m]\u001b[0m\u001b[0;34m\u001b[0m\u001b[0;34m\u001b[0m\u001b[0m\n\u001b[0;32m----> 3\u001b[0;31m \u001b[0mname\u001b[0m\u001b[0;34m,\u001b[0m \u001b[0mage\u001b[0m\u001b[0;34m,\u001b[0m \u001b[0mcity\u001b[0m \u001b[0;34m=\u001b[0m \u001b[0mlines\u001b[0m\u001b[0;34m[\u001b[0m\u001b[0;36m0\u001b[0m\u001b[0;34m]\u001b[0m\u001b[0;34m,\u001b[0m \u001b[0mlines\u001b[0m\u001b[0;34m[\u001b[0m\u001b[0;36m1\u001b[0m\u001b[0;34m]\u001b[0m\u001b[0;34m,\u001b[0m \u001b[0mlines\u001b[0m\u001b[0;34m[\u001b[0m\u001b[0;36m2\u001b[0m\u001b[0;34m]\u001b[0m\u001b[0;34m\u001b[0m\u001b[0;34m\u001b[0m\u001b[0m\n\u001b[0m\u001b[1;32m      4\u001b[0m \u001b[0mprint\u001b[0m\u001b[0;34m(\u001b[0m\u001b[0;34mf\"Name: {name}, Age: {age}, City: {city}\"\u001b[0m\u001b[0;34m)\u001b[0m\u001b[0;34m\u001b[0m\u001b[0;34m\u001b[0m\u001b[0m\n",
            "\u001b[0;31mIndexError\u001b[0m: list index out of range"
          ]
        }
      ]
    },
    {
      "cell_type": "code",
      "source": [
        "\n",
        "with open('/shaik jahangir.txt', 'r') as file:\n",
        "    lines = [line.strip() for line in file.readlines()]\n",
        "\n",
        "name, age, city = lines[0], lines[1], lines[2]\n",
        "\n",
        "print(f\"Name: {name}, Age: {age}, City: {city}\")\n"
      ],
      "metadata": {
        "colab": {
          "base_uri": "https://localhost:8080/",
          "height": 211
        },
        "id": "utfftWFoVmzi",
        "outputId": "111cfb0c-a70c-4f6b-f299-eb367f1caaa5"
      },
      "execution_count": 9,
      "outputs": [
        {
          "output_type": "error",
          "ename": "IndexError",
          "evalue": "list index out of range",
          "traceback": [
            "\u001b[0;31m---------------------------------------------------------------------------\u001b[0m",
            "\u001b[0;31mIndexError\u001b[0m                                Traceback (most recent call last)",
            "\u001b[0;32m<ipython-input-9-c1d81b919dd4>\u001b[0m in \u001b[0;36m<cell line: 4>\u001b[0;34m()\u001b[0m\n\u001b[1;32m      2\u001b[0m     \u001b[0mlines\u001b[0m \u001b[0;34m=\u001b[0m \u001b[0;34m[\u001b[0m\u001b[0mline\u001b[0m\u001b[0;34m.\u001b[0m\u001b[0mstrip\u001b[0m\u001b[0;34m(\u001b[0m\u001b[0;34m)\u001b[0m \u001b[0;32mfor\u001b[0m \u001b[0mline\u001b[0m \u001b[0;32min\u001b[0m \u001b[0mfile\u001b[0m\u001b[0;34m.\u001b[0m\u001b[0mreadlines\u001b[0m\u001b[0;34m(\u001b[0m\u001b[0;34m)\u001b[0m\u001b[0;34m]\u001b[0m\u001b[0;34m\u001b[0m\u001b[0;34m\u001b[0m\u001b[0m\n\u001b[1;32m      3\u001b[0m \u001b[0;34m\u001b[0m\u001b[0m\n\u001b[0;32m----> 4\u001b[0;31m \u001b[0mname\u001b[0m\u001b[0;34m,\u001b[0m \u001b[0mage\u001b[0m\u001b[0;34m,\u001b[0m \u001b[0mcity\u001b[0m \u001b[0;34m=\u001b[0m \u001b[0mlines\u001b[0m\u001b[0;34m[\u001b[0m\u001b[0;36m0\u001b[0m\u001b[0;34m]\u001b[0m\u001b[0;34m,\u001b[0m \u001b[0mlines\u001b[0m\u001b[0;34m[\u001b[0m\u001b[0;36m1\u001b[0m\u001b[0;34m]\u001b[0m\u001b[0;34m,\u001b[0m \u001b[0mlines\u001b[0m\u001b[0;34m[\u001b[0m\u001b[0;36m2\u001b[0m\u001b[0;34m]\u001b[0m\u001b[0;34m\u001b[0m\u001b[0;34m\u001b[0m\u001b[0m\n\u001b[0m\u001b[1;32m      5\u001b[0m \u001b[0;34m\u001b[0m\u001b[0m\n\u001b[1;32m      6\u001b[0m \u001b[0mprint\u001b[0m\u001b[0;34m(\u001b[0m\u001b[0;34mf\"Name: {name}, Age: {age}, City: {city}\"\u001b[0m\u001b[0;34m)\u001b[0m\u001b[0;34m\u001b[0m\u001b[0;34m\u001b[0m\u001b[0m\n",
            "\u001b[0;31mIndexError\u001b[0m: list index out of range"
          ]
        }
      ]
    },
    {
      "cell_type": "code",
      "source": [
        "# Read multiple inputs from a file and process them\n",
        "filename = '/task2.txt'  # File containing multiple inputs\n",
        "\n",
        "try:\n",
        "    with open(filename, 'r') as file:\n",
        "        # Read all lines from the file\n",
        "        lines = file.readlines()\n",
        "\n",
        "    # Process each line\n",
        "    for line in lines:\n",
        "        # Split the line into name, age, and city\n",
        "        name, age, city = line.strip().split(',')\n",
        "\n",
        "        # Display the processed data\n",
        "        print(f\"Name: {name}, Age: {age}, City: {city}\")\n",
        "\n",
        "except FileNotFoundError:\n",
        "    print(f\"Error: The file {filename} was not found.\")"
      ],
      "metadata": {
        "colab": {
          "base_uri": "https://localhost:8080/"
        },
        "id": "oUn0c29WWhrx",
        "outputId": "552d6e3c-309a-4574-9d94-fad94b3299e3"
      },
      "execution_count": 11,
      "outputs": [
        {
          "output_type": "stream",
          "name": "stdout",
          "text": [
            "Name: Akshith, Age: 19, City: new york\n",
            "Name: swanooj, Age: 20, City: tokyo\n",
            "Name: manideep, Age: 21, City: rio\n"
          ]
        }
      ]
    },
    {
      "cell_type": "code",
      "source": [
        "# Save Version 1 (Hardcoded) to a file\n",
        "with open('version_1_hardcoded.py', 'w') as file:\n",
        "    file.write(\"\"\"\n",
        "# Hardcoded Variables\n",
        "name = \"John Doe\"\n",
        "age = 30\n",
        "city = \"New York\"\n",
        "print(f\"Name: {name}, Age: {age}, City: {city}\")\n",
        "\"\"\")\n",
        "\n",
        "# Save Version 2 (Input from Keyboard) to a file\n",
        "with open('version_2_input.py', 'w') as file:\n",
        "    file.write(\"\"\"\n",
        "# Input from Keyboard\n",
        "name = input(\"Enter your name: \")\n",
        "age = input(\"Enter your age: \")\n",
        "city = input(\"Enter your city: \")\n",
        "print(f\"Name: {name}, Age: {age}, City: {city}\")\n",
        "\"\"\")\n",
        "\n",
        "# Save Version 3 (Read from File) to a file\n",
        "with open('version_3_file_input.py', 'w') as file:\n",
        "    file.write(\"\"\"\n",
        "# Read from File (Single Input)\n",
        "with open('input.txt', 'r') as file:\n",
        "    content = file.readline().strip()\n",
        "print(f\"Content read from the file: {content}\")\n",
        "\"\"\")\n"
      ],
      "metadata": {
        "id": "KKYV258tYgAN"
      },
      "execution_count": 15,
      "outputs": []
    },
    {
      "cell_type": "code",
      "source": [
        "with open('multiple_inputs.txt','w') as file:\n",
        "  file.write(\"10\\n20\\n30\")\n",
        "  print(\"multiple_inputs.txt created\")"
      ],
      "metadata": {
        "colab": {
          "base_uri": "https://localhost:8080/"
        },
        "id": "MjB1qSE-Y7jr",
        "outputId": "dc2345d6-80f9-4c7d-fc74-8e5a10d391c3"
      },
      "execution_count": 17,
      "outputs": [
        {
          "output_type": "stream",
          "name": "stdout",
          "text": [
            "multiple_inputs.txt created\n"
          ]
        }
      ]
    },
    {
      "cell_type": "code",
      "source": [
        "# Read From File (Multiple Inputs) Example\n",
        "# Program: Read multiple numbers from a file and calculate their sum\n",
        "\n",
        "try:\n",
        "    with open('multiple_inputs.txt', 'r') as file:\n",
        "        numbers = file.readlines()  # Read all lines from the file\n",
        "        numbers = [int(num.strip()) for num in numbers]  # Convert each line to an integer\n",
        "\n",
        "    result = sum(numbers)  # Calculate the sum of the numbers\n",
        "    print(f\"Numbers from file: {numbers}, Sum: {result}\")  # Output the numbers and their sum\n",
        "\n",
        "except FileNotFoundError:\n",
        "    print(\"File not found. Please create a file named 'multiple_inputs.txt'.\")\n",
        "except ValueError:\n",
        "    print(\"File content must contain valid integers.\")"
      ],
      "metadata": {
        "colab": {
          "base_uri": "https://localhost:8080/"
        },
        "id": "AbEV0OMlZ-Yn",
        "outputId": "f4e5c89e-6e92-4080-8efb-ab78720b0c13"
      },
      "execution_count": 18,
      "outputs": [
        {
          "output_type": "stream",
          "name": "stdout",
          "text": [
            "Numbers from file: [10, 20, 30], Sum: 60\n"
          ]
        }
      ]
    }
  ]
}